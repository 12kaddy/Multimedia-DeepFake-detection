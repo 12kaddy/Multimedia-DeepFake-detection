{
 "cells": [
  {
   "cell_type": "code",
   "execution_count": 2,
   "id": "40d8955e",
   "metadata": {},
   "outputs": [],
   "source": [
    "import random\n",
    "import os\n",
    "import cv2\n",
    "from tensorflow import keras\n",
    "import numpy as np\n",
    "\n",
    "\n"
   ]
  },
  {
   "cell_type": "code",
   "execution_count": 3,
   "id": "0e27d11e",
   "metadata": {},
   "outputs": [
    {
     "name": "stdout",
     "output_type": "stream",
     "text": [
      "Total videos found in the directory: 120\n"
     ]
    }
   ],
   "source": [
    "import os\n",
    "\n",
    "# Directory path where your videos are stored\n",
    "test_videos_dir = \"test_videos\"\n",
    "\n",
    "# Initialize a counter to count video files\n",
    "video_count = 0\n",
    "\n",
    "# Loop through files in the directory\n",
    "for filename in os.listdir(test_videos_dir):\n",
    "    if filename.endswith((\".mp4\", \".avi\", \".mkv\")):\n",
    "        video_count += 1\n",
    "\n",
    "print(f\"Total videos found in the directory: {video_count}\")\n"
   ]
  },
  {
   "cell_type": "code",
   "execution_count": 7,
   "id": "fdd84c52",
   "metadata": {},
   "outputs": [],
   "source": [
    "max_frames_per_video = 100  # Maximum number of frames to load per video\n",
    "\n",
    "X_test = np.empty((0, 128, 128, 3))  # Initialize an empty array to store frames\n",
    "\n",
    "# Loop through video files in the test directory\n",
    "for filename in os.listdir(test_videos_dir):\n",
    "    if filename.endswith(\".mp4\") or filename.endswith(\".avi\") or filename.endswith(\".mkv\"):\n",
    "        # Initialize a VideoCapture object to read the video\n",
    "        video = cv2.VideoCapture(os.path.join(test_videos_dir, filename))\n",
    "        frames = []\n",
    "        frame_count = 0\n",
    "\n",
    "        # Process each frame in the video\n",
    "        while frame_count < max_frames_per_video:\n",
    "            ret, frame = video.read()\n",
    "            if not ret:\n",
    "                break\n",
    "            # Resize the frame to the desired size (128x128) and append it to the frames list\n",
    "            frame = cv2.resize(frame, (128, 128))\n",
    "            frames.append(frame)\n",
    "            frame_count += 1\n",
    "\n",
    "        # Convert the list of frames to a numpy array\n",
    "        frames_array = np.array(frames)\n",
    "        frames_array = frames_array.reshape(-1, 128, 128, 3)  # Reshape to match X_test dimensions\n",
    "\n",
    "        # Concatenate the frames to the X_test array\n",
    "        X_test = np.concatenate((X_test, frames_array), axis=0)\n",
    "\n",
    "        # Release the video object to free up resources\n",
    "        video.release()"
   ]
  },
  {
   "cell_type": "code",
   "execution_count": 9,
   "id": "fd95542b",
   "metadata": {
    "scrolled": true
   },
   "outputs": [
    {
     "name": "stdout",
     "output_type": "stream",
     "text": [
      "375/375 [==============================] - 22s 56ms/step\n",
      "[[1. 0.]\n",
      " [1. 0.]\n",
      " [1. 0.]\n",
      " ...\n",
      " [1. 0.]\n",
      " [1. 0.]\n",
      " [1. 0.]]\n"
     ]
    }
   ],
   "source": [
    "# Load your trained model\n",
    "loaded_model = load_model('your_model.keras')\n",
    "\n",
    "# Normalize the pixel values in X_test\n",
    "X_test = X_test / 255.0\n",
    "\n",
    "# Make predictions on the preprocessed frames\n",
    "predictions = loaded_model.predict(X_test)\n",
    "\n",
    "# Display predictions\n",
    "print(predictions)"
   ]
  },
  {
   "cell_type": "code",
   "execution_count": 11,
   "id": "29e7a2d7",
   "metadata": {},
   "outputs": [
    {
     "ename": "NameError",
     "evalue": "name 'fake_video_predictions' is not defined",
     "output_type": "error",
     "traceback": [
      "\u001b[1;31m---------------------------------------------------------------------------\u001b[0m",
      "\u001b[1;31mNameError\u001b[0m                                 Traceback (most recent call last)",
      "Cell \u001b[1;32mIn[11], line 7\u001b[0m\n\u001b[0;32m      4\u001b[0m threshold \u001b[38;5;241m=\u001b[39m \u001b[38;5;241m0.5\u001b[39m  \u001b[38;5;66;03m# Change this according to your threshold\u001b[39;00m\n\u001b[0;32m      6\u001b[0m \u001b[38;5;66;03m# Use the threshold to classify predictions\u001b[39;00m\n\u001b[1;32m----> 7\u001b[0m fake_video_pred_classes \u001b[38;5;241m=\u001b[39m (fake_video_predictions[:, \u001b[38;5;241m1\u001b[39m] \u001b[38;5;241m>\u001b[39m threshold)\u001b[38;5;241m.\u001b[39mastype(\u001b[38;5;28mint\u001b[39m)\n\u001b[0;32m      9\u001b[0m \u001b[38;5;66;03m# Calculate precision, recall, and F1-score\u001b[39;00m\n\u001b[0;32m     10\u001b[0m precision \u001b[38;5;241m=\u001b[39m precision_score(y_encoded[y_encoded \u001b[38;5;241m==\u001b[39m \u001b[38;5;241m1\u001b[39m], fake_video_pred_classes)\n",
      "\u001b[1;31mNameError\u001b[0m: name 'fake_video_predictions' is not defined"
     ]
    }
   ],
   "source": []
  },
  {
   "cell_type": "code",
   "execution_count": null,
   "id": "2deaf8f8",
   "metadata": {},
   "outputs": [],
   "source": []
  },
  {
   "cell_type": "code",
   "execution_count": null,
   "id": "116fa057",
   "metadata": {},
   "outputs": [],
   "source": []
  },
  {
   "cell_type": "code",
   "execution_count": null,
   "id": "851c51d3",
   "metadata": {
    "scrolled": true
   },
   "outputs": [],
   "source": []
  },
  {
   "cell_type": "code",
   "execution_count": null,
   "id": "eb60bcbd",
   "metadata": {},
   "outputs": [],
   "source": []
  },
  {
   "cell_type": "code",
   "execution_count": null,
   "id": "af18534f",
   "metadata": {},
   "outputs": [],
   "source": []
  },
  {
   "cell_type": "code",
   "execution_count": null,
   "id": "433c9b91",
   "metadata": {},
   "outputs": [],
   "source": []
  },
  {
   "cell_type": "code",
   "execution_count": null,
   "id": "5eaa30af",
   "metadata": {},
   "outputs": [],
   "source": []
  },
  {
   "cell_type": "code",
   "execution_count": null,
   "id": "c4eaf676",
   "metadata": {},
   "outputs": [],
   "source": []
  },
  {
   "cell_type": "code",
   "execution_count": null,
   "id": "8b31e9fc",
   "metadata": {},
   "outputs": [],
   "source": []
  },
  {
   "cell_type": "code",
   "execution_count": null,
   "id": "e89357de",
   "metadata": {},
   "outputs": [],
   "source": []
  },
  {
   "cell_type": "code",
   "execution_count": null,
   "id": "e05b713c",
   "metadata": {},
   "outputs": [],
   "source": []
  },
  {
   "cell_type": "code",
   "execution_count": null,
   "id": "5c43c04d",
   "metadata": {},
   "outputs": [],
   "source": []
  },
  {
   "cell_type": "code",
   "execution_count": null,
   "id": "a2b15443",
   "metadata": {
    "scrolled": false
   },
   "outputs": [],
   "source": []
  },
  {
   "cell_type": "code",
   "execution_count": null,
   "id": "fba2dd14",
   "metadata": {},
   "outputs": [],
   "source": []
  },
  {
   "cell_type": "code",
   "execution_count": null,
   "id": "de030854",
   "metadata": {},
   "outputs": [],
   "source": []
  },
  {
   "cell_type": "code",
   "execution_count": null,
   "id": "0b4d9a84",
   "metadata": {},
   "outputs": [],
   "source": []
  },
  {
   "cell_type": "code",
   "execution_count": null,
   "id": "c672ad8c",
   "metadata": {},
   "outputs": [],
   "source": []
  }
 ],
 "metadata": {
  "kernelspec": {
   "display_name": "Python 3 (ipykernel)",
   "language": "python",
   "name": "python3"
  },
  "language_info": {
   "codemirror_mode": {
    "name": "ipython",
    "version": 3
   },
   "file_extension": ".py",
   "mimetype": "text/x-python",
   "name": "python",
   "nbconvert_exporter": "python",
   "pygments_lexer": "ipython3",
   "version": "3.11.5"
  }
 },
 "nbformat": 4,
 "nbformat_minor": 5
}
