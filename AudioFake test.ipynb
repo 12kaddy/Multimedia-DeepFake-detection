{
 "cells": [
  {
   "cell_type": "code",
   "execution_count": 1,
   "id": "84f96a5b",
   "metadata": {},
   "outputs": [],
   "source": [
    "import librosa\n",
    "import numpy as np\n",
    "from xgboost import XGBClassifier\n",
    "import joblib\n",
    "\n"
   ]
  },
  {
   "cell_type": "code",
   "execution_count": 2,
   "id": "d31a721d",
   "metadata": {},
   "outputs": [],
   "source": [
    "# Load the saved XGBoost model\n",
    "loaded_model = joblib.load('FakeAudio.joblib')"
   ]
  },
  {
   "cell_type": "code",
   "execution_count": 3,
   "id": "3a8a9803",
   "metadata": {},
   "outputs": [],
   "source": [
    "# Placeholder: Define or import your feature extraction functions\n",
    "def chroma_stft(data, sr):\n",
    "    # Placeholder implementation: Calculate the mean of chroma_stft\n",
    "    stft = np.abs(librosa.stft(data))\n",
    "    chroma_stft_result = librosa.feature.chroma_stft(S=stft, sr=sr)\n",
    "    return np.mean(np.squeeze(chroma_stft_result.T))\n",
    "\n",
    "def rms(data):\n",
    "    # Placeholder implementation: Calculate the mean of RMS\n",
    "    rms_result = librosa.feature.rms(y=data)\n",
    "    return np.mean(np.squeeze(rms_result))\n",
    "\n",
    "def spectral_centroid(data, sr):\n",
    "    # Placeholder implementation: Calculate the mean of spectral centroid\n",
    "    spectral_centroid_result = librosa.feature.spectral_centroid(y=data, sr=sr)\n",
    "    return np.mean(np.squeeze(spectral_centroid_result))\n",
    "\n",
    "def spectral_bandwidth(data, sr):\n",
    "    # Placeholder implementation: Calculate the mean of spectral bandwidth\n",
    "    spectral_bandwidth_result = librosa.feature.spectral_bandwidth(y=data, sr=sr)\n",
    "    return np.mean(np.squeeze(spectral_bandwidth_result))\n",
    "\n",
    "def spectral_rolloff(data, sr):\n",
    "    # Placeholder implementation: Calculate the mean of spectral rolloff\n",
    "    spectral_rolloff_result = librosa.feature.spectral_rolloff(y=data, sr=sr)\n",
    "    return np.mean(np.squeeze(spectral_rolloff_result))\n",
    "\n",
    "def zero_crossing_rate(data):\n",
    "    # Placeholder implementation: Calculate the mean of zero-crossing rate\n",
    "    zero_crossing_rate_result = librosa.feature.zero_crossing_rate(y=data)\n",
    "    return np.mean(np.squeeze(zero_crossing_rate_result))\n",
    "\n",
    "def calculate_mfcc(data, sr, n_mfcc=20):\n",
    "    # Placeholder implementation: Calculate the mean of MFCC coefficients\n",
    "    mfcc_feature = librosa.feature.mfcc(y=data, sr=sr, n_mfcc=n_mfcc)\n",
    "    return np.mean(mfcc_feature.T, axis=0)"
   ]
  },
  {
   "cell_type": "code",
   "execution_count": 4,
   "id": "031fb658",
   "metadata": {},
   "outputs": [],
   "source": [
    "# Define the function to extract features\n",
    "def extract_features(file_path):\n",
    "    # Load the audio file\n",
    "    data, sr = librosa.load(file_path, sr=None)\n",
    "\n",
    "    # Extract features using your existing feature extraction functions\n",
    "    chroma_stft_result = chroma_stft(data, sr)\n",
    "    rms_result = rms(data)\n",
    "    spectral_centroid_result = spectral_centroid(data, sr)\n",
    "    spectral_bandwidth_result = spectral_bandwidth(data, sr)\n",
    "    spectral_rolloff_result = spectral_rolloff(data, sr)\n",
    "    zero_crossing_rate_result = zero_crossing_rate(data)\n",
    "    mfcc_result = calculate_mfcc(data, sr)\n",
    "\n",
    "    # Combine all features into a numpy array\n",
    "    features = np.array([\n",
    "        chroma_stft_result,\n",
    "        rms_result,\n",
    "        spectral_centroid_result,\n",
    "        spectral_bandwidth_result,\n",
    "        spectral_rolloff_result,\n",
    "        zero_crossing_rate_result,\n",
    "        *mfcc_result\n",
    "    ])\n",
    "\n",
    "    return features.reshape(1, -1)  # Reshape to (1, n_features) for model prediction"
   ]
  },
  {
   "cell_type": "code",
   "execution_count": 5,
   "id": "510efea8",
   "metadata": {},
   "outputs": [],
   "source": [
    "new_audio_file = r'Deepfake_audio\\KAGGLE\\AUDIO\\FAKE\\biden-to-Obama.wav'\n",
    "\n",
    "new_features = extract_features(new_audio_file)"
   ]
  },
  {
   "cell_type": "code",
   "execution_count": 6,
   "id": "d6c813d7",
   "metadata": {},
   "outputs": [],
   "source": [
    "# Make predictions using the loaded XGBoost model\n",
    "predictions = loaded_model.predict(new_features)"
   ]
  },
  {
   "cell_type": "code",
   "execution_count": 7,
   "id": "2991f549",
   "metadata": {},
   "outputs": [
    {
     "name": "stdout",
     "output_type": "stream",
     "text": [
      "Predictions: [1]\n"
     ]
    }
   ],
   "source": [
    "# Print the predictions\n",
    "print(\"Predictions:\", predictions)"
   ]
  },
  {
   "cell_type": "code",
   "execution_count": 8,
   "id": "790736bf",
   "metadata": {},
   "outputs": [],
   "source": [
    "new_audio_file = r'Deepfake_audio\\KAGGLE\\AUDIO\\REAL\\taylor-original.wav'\n",
    "\n",
    "new_features = extract_features(new_audio_file)"
   ]
  },
  {
   "cell_type": "code",
   "execution_count": 9,
   "id": "44a74443",
   "metadata": {},
   "outputs": [],
   "source": [
    "# Make predictions using the loaded XGBoost model\n",
    "predictions = loaded_model.predict(new_features)"
   ]
  },
  {
   "cell_type": "code",
   "execution_count": 10,
   "id": "b50afa26",
   "metadata": {},
   "outputs": [
    {
     "name": "stdout",
     "output_type": "stream",
     "text": [
      "Predictions: [0]\n"
     ]
    }
   ],
   "source": [
    "# Print the predictions\n",
    "print(\"Predictions:\", predictions)"
   ]
  },
  {
   "cell_type": "code",
   "execution_count": 11,
   "id": "3f733e19",
   "metadata": {},
   "outputs": [],
   "source": [
    "new_audio_file = r'Deepfake_audio\\KAGGLE\\WORKING\\Athira.wav'\n",
    "\n",
    "new_features = extract_features(new_audio_file)"
   ]
  },
  {
   "cell_type": "code",
   "execution_count": 12,
   "id": "49406553",
   "metadata": {},
   "outputs": [],
   "source": [
    "# Make predictions using the loaded XGBoost model\n",
    "predictions = loaded_model.predict(new_features)"
   ]
  },
  {
   "cell_type": "code",
   "execution_count": 13,
   "id": "4cd38189",
   "metadata": {},
   "outputs": [
    {
     "name": "stdout",
     "output_type": "stream",
     "text": [
      "Predictions: [1]\n"
     ]
    }
   ],
   "source": [
    "# Print the predictions\n",
    "print(\"Predictions:\", predictions)"
   ]
  },
  {
   "cell_type": "code",
   "execution_count": null,
   "id": "d28c3721",
   "metadata": {},
   "outputs": [],
   "source": [
    "pip freeze > audio_requirements.txt\n"
   ]
  }
 ],
 "metadata": {
  "kernelspec": {
   "display_name": "Python 3 (ipykernel)",
   "language": "python",
   "name": "python3"
  },
  "language_info": {
   "codemirror_mode": {
    "name": "ipython",
    "version": 3
   },
   "file_extension": ".py",
   "mimetype": "text/x-python",
   "name": "python",
   "nbconvert_exporter": "python",
   "pygments_lexer": "ipython3",
   "version": "3.11.5"
  }
 },
 "nbformat": 4,
 "nbformat_minor": 5
}
